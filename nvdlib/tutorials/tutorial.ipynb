{
 "cells": [
  {
   "cell_type": "markdown",
   "metadata": {},
   "source": [
    "## Explore NVD Feeds easily -- [nvdlib](https://github.com/fabric8-analytics/nvdlib) basic usage\n",
    "---\n",
    "\n",
    "In this tutorial there will be introduced a basic usage of nvdlib.\n",
    "\n",
    "The demonstration will cover:\n",
    "\n",
    "- **Fetching** NVD Feeds\n",
    "- Creating **Collection of Documents** from JSONFeeds\n",
    "- [Optional] Getting familiar with NVD Document model\n",
    "- **Iterating** over collection of documents using **Cursor**\n",
    "- **Querying** collection of documents using query selectors"
   ]
  },
  {
   "cell_type": "code",
   "execution_count": 1,
   "metadata": {},
   "outputs": [],
   "source": [
    "import os\n",
    "import sys\n",
    "\n",
    "import tempfile  # temporary directory\n"
   ]
  },
  {
   "cell_type": "code",
   "execution_count": 2,
   "metadata": {},
   "outputs": [],
   "source": [
    "import nvdlib\n",
    "from nvdlib.manager import FeedManager"
   ]
  },
  {
   "cell_type": "markdown",
   "metadata": {},
   "source": [
    "---"
   ]
  },
  {
   "cell_type": "code",
   "execution_count": 3,
   "metadata": {},
   "outputs": [],
   "source": [
    "FEED_NAMES = [2002, 2003, 2004, 2005]  # explicitly choose feeds to work with"
   ]
  },
  {
   "cell_type": "code",
   "execution_count": 4,
   "metadata": {},
   "outputs": [],
   "source": [
    "nvdlib.set_logging_level('DEBUG')  # by default 'WARNING' logging level is used"
   ]
  },
  {
   "cell_type": "markdown",
   "metadata": {},
   "source": [
    "---\n",
    "\n",
    "#### 1) Fetch NVD Feeds\n",
    "\n",
    "We will fetch NVD Feeds from [NVD](https://nvd.nist.gov/) database using FeedManager defined in https://github.com/fabric8-analytics/nvdlib/blob/master/nvdlib/manager.py. FeedManager is a context manager which takes control over asynchronous calls using event loop.\n",
    "\n",
    "    This will store JSON feeds locally for future usage.\n",
    "   \n",
    "*NOTE: In this tutorial, we won't cover any JSONFeed related operations, as it is assumed that this is not the purpose of nvdlib. However, nvdlib is capable of handling raw JSONFeeds and their metadata in case user needed such level of control.*\n",
    "    \n",
    "    \n",
    "#### 2) Create collection from those feeds\n",
    "\n",
    "Creating collection from feeds parses each feed to its [Document](https://github.com/fabric8-analytics/nvdlib/blob/master/nvdlib/model.py#L425)(get familiar with our [model](https://github.com/fabric8-analytics/nvdlib/blob/master/nvdlib/model.py)) form and produces a [Collection](https://github.com/fabric8-analytics/nvdlib/blob/master/nvdlib/collection.py) object.\n",
    "\n",
    "    Collection is a user facade which acts as a proxy to set of documents and makes quering and operation on documents much easier.\n",
    "   \n",
    "Collections can use different [adapters](https://github.com/fabric8-analytics/nvdlib/blob/master/nvdlib/adapters) based on user choice.\n",
    "\n",
    "    The default adapter despite being very lightweight, provides limited functionality and shows lower performence."
   ]
  },
  {
   "cell_type": "code",
   "execution_count": 5,
   "metadata": {},
   "outputs": [],
   "source": [
    "tmp_dir = tempfile.mkdtemp(prefix='nvdlib_')  # create temporary directory in order to simulate clean environment"
   ]
  },
  {
   "cell_type": "code",
   "execution_count": 6,
   "metadata": {},
   "outputs": [
    {
     "name": "stderr",
     "output_type": "stream",
     "text": [
      "2018-08-24 11:27:49,475 [INFO]: Fetching feeds...\n",
      "2018-08-24 11:27:49,478 [DEBUG]: Local feeds found: []\n",
      "2018-08-24 11:27:49,479 [DEBUG]: Remote feeds found: [2002, 2003, 2004, 2005]\n",
      "2018-08-24 11:28:05,353 [INFO]: Downloading feed `2005`...\n",
      "2018-08-24 11:28:05,434 [INFO]: Downloading feed `2004`...\n",
      "2018-08-24 11:28:05,441 [INFO]: Downloading feed `2003`...\n",
      "2018-08-24 11:28:06,229 [INFO]: Downloading feed `2002`...\n",
      "2018-08-24 11:28:12,059 [INFO]: Writing feed `2003`...\n",
      "2018-08-24 11:28:12,065 [INFO]: Finished downloading feed `2003`\n",
      "2018-08-24 11:28:12,708 [INFO]: Writing feed `2004`...\n",
      "2018-08-24 11:28:12,717 [INFO]: Finished downloading feed `2004`\n",
      "2018-08-24 11:28:13,422 [INFO]: Writing feed `2005`...\n",
      "2018-08-24 11:28:13,437 [INFO]: Finished downloading feed `2005`\n",
      "2018-08-24 11:28:14,467 [INFO]: Writing feed `2002`...\n",
      "2018-08-24 11:28:14,478 [INFO]: Finished downloading feed `2002`\n",
      "2018-08-24 11:28:14,503 [INFO]: Collecting entries...\n",
      "2018-08-24 11:28:14,505 [DEBUG]: Collecting entries from feed 'JSONFeed(feed_name='2002', data_dir='/tmp/nvdlib_cufonnye')'\n",
      "2018-08-24 11:28:17,044 [DEBUG]: Collecting entries from feed 'JSONFeed(feed_name='2003', data_dir='/tmp/nvdlib_cufonnye')'\n",
      "2018-08-24 11:28:17,695 [DEBUG]: Collecting entries from feed 'JSONFeed(feed_name='2004', data_dir='/tmp/nvdlib_cufonnye')'\n",
      "2018-08-24 11:28:18,989 [DEBUG]: Collecting entries from feed 'JSONFeed(feed_name='2005', data_dir='/tmp/nvdlib_cufonnye')'\n"
     ]
    },
    {
     "name": "stdout",
     "output_type": "stream",
     "text": [
      "CPU times: user 7.71 s, sys: 814 ms, total: 8.53 s\n",
      "Wall time: 38.9 s\n"
     ]
    }
   ],
   "source": [
    "%%time\n",
    "\n",
    "with FeedManager(data_dir=tmp_dir, n_workers=5) as feed_manager:\n",
    "    \n",
    "    feeds = feed_manager.fetch_feeds(FEED_NAMES)\n",
    "    collection = feed_manager.collect(feeds)  # create collection, optionaly, custom feeds can be specified \n",
    "    \n",
    "    # [OPTIONAL] step\n",
    "    collection.set_name('Tutorial')  # choose whatever name you want for future identification"
   ]
  },
  {
   "cell_type": "markdown",
   "metadata": {},
   "source": [
    "    TIP: Hide debug output of jupyter cells by pressing `shift+v` while the cell is selected"
   ]
  },
  {
   "cell_type": "code",
   "execution_count": 7,
   "metadata": {},
   "outputs": [
    {
     "data": {
      "text/plain": [
       "\n",
       "Collection: {\n",
       "   _id: 140718403696904\n",
       "   name: 'Tutorial'\n",
       "   adapter: 'DEFAULT',\n",
       "   documents: 15743\n",
       "}"
      ]
     },
     "execution_count": 7,
     "metadata": {},
     "output_type": "execute_result"
    }
   ],
   "source": [
    "collection  # a visual representation of the collection proxy"
   ]
  },
  {
   "cell_type": "markdown",
   "metadata": {},
   "source": [
    "---"
   ]
  },
  {
   "cell_type": "markdown",
   "metadata": {},
   "source": [
    "#### 3) [OPTIONAL] NVD Document model exploration (skip if already familiar with)\n",
    "\n",
    "    It is very important to get familiar with the [nvdlib customized NVD model](https://github.com/fabric8-analytics/nvdlib/blob/master/nvdlib/model.py) before doing any other work.\n",
    "    \n",
    "Spend some time exploring the Document model. Despite acting somewhat similar to dict, each attribute should be accessible via 'dot notation', python attribute hints should also help with the task, hence a comfortable access and attribute exploration should be guaranteed."
   ]
  },
  {
   "cell_type": "code",
   "execution_count": 8,
   "metadata": {},
   "outputs": [],
   "source": [
    "doc, = collection.sample(sample_size=1)  # load a single random document from the collection"
   ]
  },
  {
   "cell_type": "markdown",
   "metadata": {},
   "source": [
    "##### Model"
   ]
  },
  {
   "cell_type": "code",
   "execution_count": 9,
   "metadata": {},
   "outputs": [
    {
     "name": "stdout",
     "output_type": "stream",
     "text": [
      "{\n",
      "    'id_': 'CVE-2005-4432',\n",
      "    'cve': {\n",
      "        'id_': 'CVE-2005-4432',\n",
      "        'year': 2005,\n",
      "        'assigner': 'cve@mitre.org',\n",
      "        'data_version': '4.0',\n",
      "        'affects': {\n",
      "            'data': [\n",
      "                {\n",
      "                    'vendor_name': 'playsms',\n",
      "                    'product_name': 'playsms',\n",
      "                    'versions': ['0.8']\n",
      "                }\n",
      "            ]\n",
      "        },\n",
      "        'references': {\n",
      "            'data': [\n",
      "                {\n",
      "                    'url':\n",
      "                        'http://marc.info/?l=full-disclosure&m='\n",
      "                        '113478814326427&w=2',\n",
      "                    'name': '20051217 XSS Vuln in PlaySmS',\n",
      "                    'refsource': 'FULLDISC'\n",
      "                },\n",
      "                {\n",
      "                    'url':\n",
      "                        'http://marc.info/?l=full-disclosure&m='\n",
      "                        '113970096305873&w=2',\n",
      "                    'name': '20060211 XSS in PlaySMS',\n",
      "                    'refsource': 'FULLDISC'\n",
      "                },\n",
      "                {\n",
      "                    'url': 'http://secunia.com/advisories/18148',\n",
      "                    'name': '18148',\n",
      "                    'refsource': 'SECUNIA'\n",
      "                },\n",
      "                {\n",
      "                    'url': 'http://www.osvdb.org/21835',\n",
      "                    'name': '21835',\n",
      "                    'refsource': 'OSVDB'\n",
      "                },\n",
      "                {\n",
      "                    'url': 'http://www.securityfocus.com/bid/15928',\n",
      "                    'name': '15928',\n",
      "                    'refsource': 'BID'\n",
      "                },\n",
      "                {\n",
      "                    'url': 'http://www.vupen.com/english/advisories/2006/0548',\n",
      "                    'name': 'ADV-2006-0548',\n",
      "                    'refsource': 'VUPEN'\n",
      "                },\n",
      "                {\n",
      "                    'url':\n",
      "                        'https://exchange.xforce.ibmcloud.com/vulnerabilities/'\n",
      "                        '23665',\n",
      "                    'name': 'playsms-index-xss(23665)',\n",
      "                    'refsource': 'XF'\n",
      "                }\n",
      "            ]\n",
      "        },\n",
      "        'descriptions': {\n",
      "            'data': [\n",
      "                {\n",
      "                    'lang': 'en',\n",
      "                    'value':\n",
      "                        'Cross-site scripting (XSS) vulnerability in '\n",
      "                        'index.php in PlaySMS 0.8 allows remote attackers to '\n",
      "                        'inject arbitrary web script or HTML via the err '\n",
      "                        'parameter.'\n",
      "                }\n",
      "            ]\n",
      "        }\n",
      "    },\n",
      "    'configurations': {\n",
      "        'cve_data_version': '4.0',\n",
      "        'nodes': [\n",
      "            {\n",
      "                'operator': 'OR',\n",
      "                'data': [\n",
      "                    {\n",
      "                        'vulnerable': True,\n",
      "                        'cpe': 'cpe:2.3:a:playsms:playsms:0.8:*:*:*:*:*:*:*'\n",
      "                    }\n",
      "                ]\n",
      "            }\n",
      "        ]\n",
      "    },\n",
      "    'impact': {\n",
      "        'severity': 'MEDIUM',\n",
      "        'exploitability_score': 8.6,\n",
      "        'impact_score': 2.9,\n",
      "        'cvss': {\n",
      "            'version': '2.0',\n",
      "            'access_vector': 'NETWORK',\n",
      "            'access_complexity': 'MEDIUM',\n",
      "            'authentication': 'NONE',\n",
      "            'confidentiality_impact': 'NONE',\n",
      "            'integrity_impact': 'PARTIAL',\n",
      "            'availability_impact': 'NONE',\n",
      "            'base_score': 4.3\n",
      "        }\n",
      "    },\n",
      "    'published_date': datetime.datetime(\n",
      "        year=2005,\n",
      "        month=12,\n",
      "        day=21,\n",
      "        hour=0,\n",
      "        minute=3\n",
      "    ),\n",
      "    'modified_date': datetime.datetime(\n",
      "        year=2017,\n",
      "        month=7,\n",
      "        day=20,\n",
      "        hour=1,\n",
      "        minute=29\n",
      "    )\n",
      "}\n"
     ]
    }
   ],
   "source": [
    "doc.pretty()"
   ]
  },
  {
   "cell_type": "markdown",
   "metadata": {},
   "source": [
    "When accessing document attributes, we can access them either in the standard 'dot' way"
   ]
  },
  {
   "cell_type": "code",
   "execution_count": 10,
   "metadata": {},
   "outputs": [
    {
     "data": {
      "text/plain": [
       "DescriptionEntry(data=[DescriptionNode(lang='en', value='Cross-site scripting (XSS) vulnerability in index.php in PlaySMS 0.8 allows remote attackers to inject arbitrary web script or HTML via the err parameter.')]"
      ]
     },
     "execution_count": 10,
     "metadata": {},
     "output_type": "execute_result"
    }
   ],
   "source": [
    "doc.cve.descriptions"
   ]
  },
  {
   "cell_type": "markdown",
   "metadata": {},
   "source": [
    "    TIP: Every entry also has a `pretty` method"
   ]
  },
  {
   "cell_type": "code",
   "execution_count": 11,
   "metadata": {},
   "outputs": [
    {
     "name": "stdout",
     "output_type": "stream",
     "text": [
      "{\n",
      "    'data': [\n",
      "        {\n",
      "            'lang': 'en',\n",
      "            'value':\n",
      "                'Cross-site scripting (XSS) vulnerability in index.php in '\n",
      "                'PlaySMS 0.8 allows remote attackers to inject arbitrary web '\n",
      "                'script or HTML via the err parameter.'\n",
      "        }\n",
      "    ]\n",
      "}\n"
     ]
    }
   ],
   "source": [
    "doc.cve.descriptions.pretty()"
   ]
  },
  {
   "cell_type": "markdown",
   "metadata": {},
   "source": [
    "or by using a `rgetattr()` function from our [utils](https://github.com/fabric8-analytics/nvdlib/blob/master/nvdlib/utils.py) module"
   ]
  },
  {
   "cell_type": "code",
   "execution_count": 12,
   "metadata": {},
   "outputs": [
    {
     "data": {
      "text/plain": [
       "4.3"
      ]
     },
     "execution_count": 12,
     "metadata": {},
     "output_type": "execute_result"
    }
   ],
   "source": [
    "from nvdlib.utils import rgetattr\n",
    "\n",
    "rgetattr(doc, 'impact.cvss.base_score')"
   ]
  },
  {
   "cell_type": "markdown",
   "metadata": {},
   "source": [
    "or by using a convenient `project()` function provided for such purposes"
   ]
  },
  {
   "cell_type": "code",
   "execution_count": 13,
   "metadata": {},
   "outputs": [
    {
     "data": {
      "text/plain": [
       "{'cve': {'descriptions': DescriptionEntry(data=[DescriptionNode(lang='en', value='Cross-site scripting (XSS) vulnerability in index.php in PlaySMS 0.8 allows remote attackers to inject arbitrary web script or HTML via the err parameter.')]}, 'impact': {'cvss': {'base_score': 4.3}}}"
      ]
     },
     "execution_count": 13,
     "metadata": {},
     "output_type": "execute_result"
    }
   ],
   "source": [
    "# this function can take a dictionary of multiple attributes to be projected\n",
    "projection = doc.project({'id_': 0, 'cve.descriptions': 1, 'impact.cvss.base_score': 1})\n",
    "projection"
   ]
  },
  {
   "cell_type": "markdown",
   "metadata": {},
   "source": [
    "Projection returns `AttrDict`, an augmented dictionary which provides attribute level access via dot notation.\n",
    "\n",
    "    TIP: Each projection also defines `pretty()` method"
   ]
  },
  {
   "cell_type": "markdown",
   "metadata": {},
   "source": [
    "One more cool thing is possible with `project` method.\n",
    "\n",
    "Note that there is multiple descriptions entries under `doc.cve.descriptions.data` stored in an array-like object.\n",
    "\n",
    "    We can use selectors and projections even on the array elements."
   ]
  },
  {
   "cell_type": "code",
   "execution_count": 14,
   "metadata": {},
   "outputs": [
    {
     "name": "stdout",
     "output_type": "stream",
     "text": [
      "{\n",
      "    'id_': 'CVE-2005-4432',\n",
      "    'cve': {\n",
      "        'descriptions': {\n",
      "            'data': {\n",
      "                'value': [\n",
      "                    'Cross-site scripting (XSS) vulnerability in '\n",
      "                    'index.php in PlaySMS 0.8 allows remote attackers to '\n",
      "                    'inject arbitrary web script or HTML via the err '\n",
      "                    'parameter.'\n",
      "                ]\n",
      "            }\n",
      "        }\n",
      "    }\n",
      "}\n"
     ]
    }
   ],
   "source": [
    "projection = doc.project({'cve.descriptions.data.value': 1})\n",
    "projection.pretty()"
   ]
  },
  {
   "cell_type": "markdown",
   "metadata": {},
   "source": [
    "---"
   ]
  },
  {
   "cell_type": "markdown",
   "metadata": {},
   "source": [
    "#### 4) Iterating over Collection using Cursor\n",
    "\n",
    "Collection defines method called `cursor()`, which instantiates an iterator over the collection and preserves the state.\n",
    "\n",
    "Elements can then be accesed either by `next()` method or `next_batch()` method, which returns a batch (of given size) of documents.\n",
    "\n",
    "    Iterating over collection of documents is as easy as creating a Cursor."
   ]
  },
  {
   "cell_type": "code",
   "execution_count": 15,
   "metadata": {},
   "outputs": [],
   "source": [
    "cursor = collection.cursor()"
   ]
  },
  {
   "cell_type": "code",
   "execution_count": 16,
   "metadata": {
    "scrolled": true
   },
   "outputs": [
    {
     "name": "stdout",
     "output_type": "stream",
     "text": [
      "{\n",
      "    'id_': 'CVE-1999-0001',\n",
      "    'cve': {\n",
      "        'id_': 'CVE-1999-0001',\n",
      "        'year': 1999,\n",
      "        'assigner': 'cve@mitre.org',\n",
      "        'data_version': '4.0',\n",
      "        'affects': {\n",
      "            'data': [\n",
      "                {\n",
      "                    'vendor_name': 'bsdi',\n",
      "                    'product_name': 'bsd_os',\n",
      "                    'versions': ['3.1']\n",
      "                },\n",
      "                {\n",
      "                    'vendor_name': 'freebsd',\n",
      "                    'product_name': 'freebsd',\n",
      "                    'versions': [\n",
      "                        '1.0',\n",
      "                        '1.1',\n",
      "                        '1.1.5.1',\n",
      "                        '1.2',\n",
      "                        '2.0',\n",
      "                        '2.0.1',\n",
      "                        '2.0.5',\n",
      "                        '2.1.5',\n",
      "                        '2.1.6',\n",
      "                        '2.1.6.1',\n",
      "                        '2.1.7',\n",
      "                        '2.1.7.1',\n",
      "                        '2.2',\n",
      "                        '2.2.2',\n",
      "                        '2.2.3',\n",
      "                        '2.2.4',\n",
      "                        '2.2.5',\n",
      "                        '2.2.6',\n",
      "                        '2.2.8',\n",
      "                        '3.0'\n",
      "                    ]\n",
      "                },\n",
      "                {\n",
      "                    'vendor_name': 'openbsd',\n",
      "                    'product_name': 'openbsd',\n",
      "                    'versions': ['2.3', '2.4']\n",
      "                }\n",
      "            ]\n",
      "        },\n",
      "        'references': {\n",
      "            'data': [\n",
      "                {\n",
      "                    'url': 'http://www.openbsd.org/errata23.html#tcpfix',\n",
      "                    'name': 'http://www.openbsd.org/errata23.html#tcpfix',\n",
      "                    'refsource': 'CONFIRM'\n",
      "                },\n",
      "                {\n",
      "                    'url': 'http://www.osvdb.org/5707',\n",
      "                    'name': '5707',\n",
      "                    'refsource': 'OSVDB'\n",
      "                }\n",
      "            ]\n",
      "        },\n",
      "        'descriptions': {\n",
      "            'data': [\n",
      "                {\n",
      "                    'lang': 'en',\n",
      "                    'value':\n",
      "                        'ip_input.c in BSD-derived TCP/IP implementations '\n",
      "                        'allows remote attackers to cause a denial of service '\n",
      "                        '(crash or hang) via crafted packets.'\n",
      "                }\n",
      "            ]\n",
      "        }\n",
      "    }\n",
      "}\n"
     ]
    }
   ],
   "source": [
    "next_doc = cursor.next()\n",
    "next_doc.project({'cve': 1}).pretty()"
   ]
  },
  {
   "cell_type": "code",
   "execution_count": 17,
   "metadata": {},
   "outputs": [
    {
     "data": {
      "text/plain": [
       "'Batch contains 20 documents.'"
      ]
     },
     "execution_count": 17,
     "metadata": {},
     "output_type": "execute_result"
    }
   ],
   "source": [
    "next_batch = cursor.next_batch()  # default batch size is 20\n",
    "f\"Batch contains {len(next_batch)} documents.\""
   ]
  },
  {
   "cell_type": "markdown",
   "metadata": {},
   "source": [
    "---"
   ]
  },
  {
   "cell_type": "markdown",
   "metadata": {},
   "source": [
    "#### 5) Querying collection of documents\n",
    "\n",
    "In order to make full use of nvdlib capabilities, we will demonstrate usage of querying collections of documents using various [selectors](https://github.com/fabric8-analytics/nvdlib/blob/master/nvdlib/query_selectors.py) and (for mongodb users somewhat familiar) `find()` method.\n",
    "\n",
    "    Even lightweight version of [nvdlib](https://github.com/fabric8-analytics/nvdlib) allows to query and handle collections of documents at ease using query selectors."
   ]
  },
  {
   "cell_type": "code",
   "execution_count": 18,
   "metadata": {},
   "outputs": [],
   "source": [
    "from nvdlib.query_selectors import match, search    # basic match and search (regex-like) selectors\n",
    "from nvdlib.query_selectors import ge, gt, le, lt   # comparison operators greater/lower (and equal) than\n",
    "from nvdlib.query_selectors import in_, in_range    # array handling selectors"
   ]
  },
  {
   "cell_type": "markdown",
   "metadata": {},
   "source": [
    "##### Querying by exact match"
   ]
  },
  {
   "cell_type": "code",
   "execution_count": 19,
   "metadata": {},
   "outputs": [
    {
     "data": {
      "text/plain": [
       "\n",
       "Collection: {\n",
       "   _id: 140719104683760\n",
       "   name: 'None'\n",
       "   adapter: 'DEFAULT',\n",
       "   documents: 1210\n",
       "}"
      ]
     },
     "execution_count": 19,
     "metadata": {},
     "output_type": "execute_result"
    }
   ],
   "source": [
    "collection.find({'cve.affects.data.vendor_name': 'microsoft'})"
   ]
  },
  {
   "cell_type": "markdown",
   "metadata": {},
   "source": [
    "##### Querying by pattern matches\n",
    "\n",
    "Selectors `match` and `search` serve for this exact purpose"
   ]
  },
  {
   "cell_type": "code",
   "execution_count": 20,
   "metadata": {},
   "outputs": [
    {
     "data": {
      "text/plain": [
       "\n",
       "Collection: {\n",
       "   _id: 140717913649048\n",
       "   name: 'Windows CVEs'\n",
       "   adapter: 'DEFAULT',\n",
       "   documents: 522\n",
       "}"
      ]
     },
     "execution_count": 20,
     "metadata": {},
     "output_type": "execute_result"
    }
   ],
   "source": [
    "win_collection = collection.find({'cve.affects.data.product_name': search('windows')})\n",
    "win_collection.set_name('Windows CVEs')\n",
    "win_collection"
   ]
  },
  {
   "cell_type": "code",
   "execution_count": 21,
   "metadata": {},
   "outputs": [
    {
     "name": "stdout",
     "output_type": "stream",
     "text": [
      "{\n",
      "    'id_': 'CVE-2001-1552',\n",
      "    'year': 2001,\n",
      "    'assigner': 'cve@mitre.org',\n",
      "    'data_version': '4.0',\n",
      "    'affects': {\n",
      "        'data': [\n",
      "            {\n",
      "                'vendor_name': 'microsoft',\n",
      "                'product_name': 'windows_me',\n",
      "                'versions': ['*']\n",
      "            }\n",
      "        ]\n",
      "    },\n",
      "    'references': {\n",
      "        'data': [\n",
      "            {\n",
      "                'url':\n",
      "                    'http://archives.neohapsis.com/archives/bugtraq/2001-10/'\n",
      "                    '0133.html',\n",
      "                'name': '20011017 Ssdpsrv.exe in WindowsME',\n",
      "                'refsource': 'BUGTRAQ'\n",
      "            },\n",
      "            {\n",
      "                'url': 'http://www.iss.net/security_center/static/7318.php',\n",
      "                'name': 'winme-ssdp-dos(7318)',\n",
      "                'refsource': 'XF'\n",
      "            },\n",
      "            {\n",
      "                'url': 'http://www.securityfocus.com/bid/3442',\n",
      "                'name': '3442',\n",
      "                'refsource': 'BID'\n",
      "            }\n",
      "        ]\n",
      "    },\n",
      "    'descriptions': {\n",
      "        'data': [\n",
      "            {\n",
      "                'lang': 'en',\n",
      "                'value':\n",
      "                    'ssdpsrv.exe in Windows ME allows remote attackers to '\n",
      "                    'cause a denial of service by sending multiple newlines '\n",
      "                    'in a Simple Service Discovery Protocol (SSDP) message.  '\n",
      "                    'NOTE: multiple replies to the original post state that '\n",
      "                    'the problem could not be reproduced.'\n",
      "            }\n",
      "        ]\n",
      "    }\n",
      "}\n"
     ]
    }
   ],
   "source": [
    "win_doc, = win_collection.sample(1)\n",
    "win_doc.cve.pretty()"
   ]
  },
  {
   "cell_type": "code",
   "execution_count": 22,
   "metadata": {},
   "outputs": [
    {
     "data": {
      "text/plain": [
       "\n",
       "Collection: {\n",
       "   _id: 140717913713240\n",
       "   name: 'None'\n",
       "   adapter: 'DEFAULT',\n",
       "   documents: 5482\n",
       "}"
      ]
     },
     "execution_count": 22,
     "metadata": {},
     "output_type": "execute_result"
    }
   ],
   "source": [
    "collection.find({'cve.year': match(\"200[1-3]{1}\")})"
   ]
  },
  {
   "cell_type": "markdown",
   "metadata": {},
   "source": [
    "##### Querying by range of values\n",
    "\n",
    "The query above using regex although possible, is not very intuitive. For this purpose, we provide methods `in_` and `in_range`"
   ]
  },
  {
   "cell_type": "code",
   "execution_count": 23,
   "metadata": {},
   "outputs": [
    {
     "data": {
      "text/plain": [
       "\n",
       "Collection: {\n",
       "   _id: 140717859742888\n",
       "   name: 'None'\n",
       "   adapter: 'DEFAULT',\n",
       "   documents: 5482\n",
       "}"
      ]
     },
     "execution_count": 23,
     "metadata": {},
     "output_type": "execute_result"
    }
   ],
   "source": [
    "collection.find({'cve.year': in_range(2001, 2003)})"
   ]
  },
  {
   "cell_type": "markdown",
   "metadata": {},
   "source": [
    "In this context (as years are always integer values), same query can be expressed by `_in` selector"
   ]
  },
  {
   "cell_type": "code",
   "execution_count": 24,
   "metadata": {},
   "outputs": [
    {
     "data": {
      "text/plain": [
       "\n",
       "Collection: {\n",
       "   _id: 140718003599008\n",
       "   name: 'None'\n",
       "   adapter: 'DEFAULT',\n",
       "   documents: 5482\n",
       "}"
      ]
     },
     "execution_count": 24,
     "metadata": {},
     "output_type": "execute_result"
    }
   ],
   "source": [
    "collection.find({'cve.year': in_([2001, 2002, 2003])})"
   ]
  },
  {
   "cell_type": "markdown",
   "metadata": {},
   "source": [
    "##### Querying by value comparisons"
   ]
  },
  {
   "cell_type": "code",
   "execution_count": 25,
   "metadata": {},
   "outputs": [
    {
     "data": {
      "text/plain": [
       "\n",
       "Collection: {\n",
       "   _id: 140718003699840\n",
       "   name: 'None'\n",
       "   adapter: 'DEFAULT',\n",
       "   documents: 1355\n",
       "}"
      ]
     },
     "execution_count": 25,
     "metadata": {},
     "output_type": "execute_result"
    }
   ],
   "source": [
    "collection.find({'impact.cvss.base_score': gt(9)})"
   ]
  },
  {
   "cell_type": "markdown",
   "metadata": {},
   "source": [
    "More complex query"
   ]
  },
  {
   "cell_type": "code",
   "execution_count": 26,
   "metadata": {},
   "outputs": [
    {
     "data": {
      "text/plain": [
       "\n",
       "Collection: {\n",
       "   _id: 140718012048216\n",
       "   name: 'None'\n",
       "   adapter: 'DEFAULT',\n",
       "   documents: 93\n",
       "}"
      ]
     },
     "execution_count": 26,
     "metadata": {},
     "output_type": "execute_result"
    }
   ],
   "source": [
    "pre_release_december_collection = collection.find({\n",
    "    'published_date.month': 12,\n",
    "    'impact.cvss.base_score': ge(9.0),\n",
    "    'cve.affects.data.versions': le('1.0.0')\n",
    "})\n",
    "\n",
    "# NOTE: comparing versions in this way is very unreliable, here only for demonstration purposes\n",
    "\n",
    "pre_release_december_collection"
   ]
  },
  {
   "cell_type": "code",
   "execution_count": 27,
   "metadata": {},
   "outputs": [
    {
     "name": "stdout",
     "output_type": "stream",
     "text": [
      "{\n",
      "    'id_': 'CVE-2002-2268',\n",
      "    'cve': {\n",
      "        'id_': 'CVE-2002-2268',\n",
      "        'year': 2002,\n",
      "        'assigner': 'cve@mitre.org',\n",
      "        'data_version': '4.0',\n",
      "        'affects': {\n",
      "            'data': [\n",
      "                {\n",
      "                    'vendor_name': 'netdave',\n",
      "                    'product_name': 'webster_http_server',\n",
      "                    'versions': ['*']\n",
      "                }\n",
      "            ]\n",
      "        },\n",
      "        'references': {\n",
      "            'data': [\n",
      "                {\n",
      "                    'url':\n",
      "                        'http://seclists.org/lists/bugtraq/2002/Dec/0013.html',\n",
      "                    'name': '20021201 Advisory: Webster HTTP Server',\n",
      "                    'refsource': 'BUGTRAQ'\n",
      "                },\n",
      "                {\n",
      "                    'url':\n",
      "                        'http://www.securiteam.com/windowsntfocus/6R0030A6AY.'\n",
      "                        'html',\n",
      "                    'name':\n",
      "                        'http://www.securiteam.com/windowsntfocus/6R0030A6AY.'\n",
      "                        'html',\n",
      "                    'refsource': 'MISC'\n",
      "                },\n",
      "                {\n",
      "                    'url': 'http://www.securityfocus.com/bid/6289',\n",
      "                    'name': '6289',\n",
      "                    'refsource': 'BID'\n",
      "                },\n",
      "                {\n",
      "                    'url':\n",
      "                        'https://exchange.xforce.ibmcloud.com/vulnerabilities/'\n",
      "                        '10727',\n",
      "                    'name': 'webster-url-bo(10727)',\n",
      "                    'refsource': 'XF'\n",
      "                }\n",
      "            ]\n",
      "        },\n",
      "        'descriptions': {\n",
      "            'data': [\n",
      "                {\n",
      "                    'lang': 'en',\n",
      "                    'value':\n",
      "                        'Buffer overflow in Webster HTTP Server allows remote '\n",
      "                        'attackers to execute arbitrary code via a long URL.'\n",
      "                }\n",
      "            ]\n",
      "        }\n",
      "    },\n",
      "    'configurations': {\n",
      "        'cve_data_version': '4.0',\n",
      "        'nodes': [\n",
      "            {\n",
      "                'operator': 'OR',\n",
      "                'data': [\n",
      "                    {\n",
      "                        'vulnerable': True,\n",
      "                        'cpe':\n",
      "                            'cpe:2.3:a:netdave:webster_http_server:*:*:*:*:*:*'\n",
      "                            ':*:*'\n",
      "                    }\n",
      "                ]\n",
      "            }\n",
      "        ]\n",
      "    },\n",
      "    'impact': {\n",
      "        'severity': 'HIGH',\n",
      "        'exploitability_score': 10.0,\n",
      "        'impact_score': 9.2,\n",
      "        'cvss': {\n",
      "            'version': '2.0',\n",
      "            'access_vector': 'NETWORK',\n",
      "            'access_complexity': 'LOW',\n",
      "            'authentication': 'NONE',\n",
      "            'confidentiality_impact': 'COMPLETE',\n",
      "            'integrity_impact': 'COMPLETE',\n",
      "            'availability_impact': 'NONE',\n",
      "            'base_score': 9.4\n",
      "        }\n",
      "    },\n",
      "    'published_date': datetime.datetime(\n",
      "        year=2002,\n",
      "        month=12,\n",
      "        day=31,\n",
      "        hour=5\n",
      "    ),\n",
      "    'modified_date': datetime.datetime(\n",
      "        year=2017,\n",
      "        month=7,\n",
      "        day=29,\n",
      "        hour=1,\n",
      "        minute=29\n",
      "    )\n",
      "}\n",
      "\n",
      "{\n",
      "    'id_': 'CVE-2002-2269',\n",
      "    'cve': {\n",
      "        'id_': 'CVE-2002-2269',\n",
      "        'year': 2002,\n",
      "        'assigner': 'cve@mitre.org',\n",
      "        'data_version': '4.0',\n",
      "        'affects': {\n",
      "            'data': [\n",
      "                {\n",
      "                    'vendor_name': 'webster',\n",
      "                    'product_name': 'webster_http_server',\n",
      "                    'versions': ['*']\n",
      "                }\n",
      "            ]\n",
      "        },\n",
      "        'references': {\n",
      "            'data': [\n",
      "                {\n",
      "                    'url': 'http://securityreason.com/securityalert/3262',\n",
      "                    'name': '3262',\n",
      "                    'refsource': 'SREASON'\n",
      "                },\n",
      "                {\n",
      "                    'url': 'http://www.securityfocus.com/archive/1/301893',\n",
      "                    'name': '20021201 Advisory: Webster HTTP Server',\n",
      "                    'refsource': 'BUGTRAQ'\n",
      "                },\n",
      "                {\n",
      "                    'url': 'http://www.securityfocus.com/bid/6291',\n",
      "                    'name': '6291',\n",
      "                    'refsource': 'BID'\n",
      "                },\n",
      "                {\n",
      "                    'url':\n",
      "                        'https://exchange.xforce.ibmcloud.com/vulnerabilities/'\n",
      "                        '10728',\n",
      "                    'name': 'webster-dotdot-directory-traversal(10728)',\n",
      "                    'refsource': 'XF'\n",
      "                }\n",
      "            ]\n",
      "        },\n",
      "        'descriptions': {\n",
      "            'data': [\n",
      "                {\n",
      "                    'lang': 'en',\n",
      "                    'value':\n",
      "                        'Directory traversal vulnerability in Webster HTTP '\n",
      "                        'Server allows remote attackers to read arbitrary '\n",
      "                        'files via a .. (dot dot) in the URL.'\n",
      "                }\n",
      "            ]\n",
      "        }\n",
      "    },\n",
      "    'configurations': {\n",
      "        'cve_data_version': '4.0',\n",
      "        'nodes': [\n",
      "            {\n",
      "                'operator': 'OR',\n",
      "                'data': [\n",
      "                    {\n",
      "                        'vulnerable': True,\n",
      "                        'cpe':\n",
      "                            'cpe:2.3:a:webster:webster_http_server:*:*:*:*:*:*'\n",
      "                            ':*:*'\n",
      "                    }\n",
      "                ]\n",
      "            }\n",
      "        ]\n",
      "    },\n",
      "    'impact': {\n",
      "        'severity': 'HIGH',\n",
      "        'exploitability_score': 10.0,\n",
      "        'impact_score': 9.2,\n",
      "        'cvss': {\n",
      "            'version': '2.0',\n",
      "            'access_vector': 'NETWORK',\n",
      "            'access_complexity': 'LOW',\n",
      "            'authentication': 'NONE',\n",
      "            'confidentiality_impact': 'COMPLETE',\n",
      "            'integrity_impact': 'COMPLETE',\n",
      "            'availability_impact': 'NONE',\n",
      "            'base_score': 9.4\n",
      "        }\n",
      "    },\n",
      "    'published_date': datetime.datetime(\n",
      "        year=2002,\n",
      "        month=12,\n",
      "        day=31,\n",
      "        hour=5\n",
      "    ),\n",
      "    'modified_date': datetime.datetime(\n",
      "        year=2017,\n",
      "        month=7,\n",
      "        day=29,\n",
      "        hour=1,\n",
      "        minute=29\n",
      "    )\n",
      "}\n",
      "\n"
     ]
    }
   ],
   "source": [
    "pre_release_december_collection.pretty(sample_size=2)"
   ]
  },
  {
   "cell_type": "markdown",
   "metadata": {},
   "source": [
    "---"
   ]
  }
 ],
 "metadata": {
  "kernelspec": {
   "display_name": "venv",
   "language": "python",
   "name": "venv"
  },
  "language_info": {
   "codemirror_mode": {
    "name": "ipython",
    "version": 3
   },
   "file_extension": ".py",
   "mimetype": "text/x-python",
   "name": "python",
   "nbconvert_exporter": "python",
   "pygments_lexer": "ipython3",
   "version": "3.6.5"
  }
 },
 "nbformat": 4,
 "nbformat_minor": 2
}
